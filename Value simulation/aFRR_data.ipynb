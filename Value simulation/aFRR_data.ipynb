{
 "nbformat": 4,
 "nbformat_minor": 2,
 "metadata": {
  "language_info": {
   "name": "python",
   "codemirror_mode": {
    "name": "ipython",
    "version": 3
   },
   "version": "3.7.6-final"
  },
  "orig_nbformat": 2,
  "file_extension": ".py",
  "mimetype": "text/x-python",
  "name": "python",
  "npconvert_exporter": "python",
  "pygments_lexer": "ipython3",
  "version": 3,
  "kernelspec": {
   "name": "python37364bitbaseconda932fb5d06ddb43488b31896c8f2d006d",
   "display_name": "Python 3.7.3 64-bit ('base': conda)"
  }
 },
 "cells": [
  {
   "cell_type": "markdown",
   "metadata": {},
   "source": [
    "## 2019\n",
    "![](aFRR_prices_2019.PNG)  \n",
    "## 2018\n",
    "![](aFRR_prices_2018.PNG)  \n",
    "![](aFRR_prices_2018-2.PNG)  \n",
    "## 2017\n",
    "![](aFRR_prices_2017.PNG)  \n",
    "source: https://energinet.dk/El/Systemydelser/indkob-og-udbud/Resultater-for-aFRR"
   ]
  },
  {
   "cell_type": "code",
   "execution_count": 1,
   "metadata": {},
   "outputs": [],
   "source": [
    "import numpy as np\n",
    "import pandas as pd"
   ]
  },
  {
   "cell_type": "code",
   "execution_count": 2,
   "metadata": {},
   "outputs": [],
   "source": [
    "prices_2017 = [[1334,1559],[1212,1212],[926,941],[850,900],[650,700],[448,498],[1471,2159,2819,3169],[3295,3495],[435,435],[650,1005,2010,1495],[395,395],[389,390]]\n",
    "weights_2017 = [[45,45],[45,45],[42,48],[45,45],[45,45],[45,45],[15,20,25,30],[45,45],[45,45],[45,15,25,7.5],[45,45],[45,45]]\n",
    "\n",
    "prices_2018 = [[340,340],[328,488],[491,494],[475,525],[34508,34508],[33400,56730],[14995,53619],[39800,53619],[34000,44000],[17885,13742],[4885,6438],[2420,3169]]\n",
    "weights_2018 = [[45,45],[45,45],[45,45],[45,45],[45,45],[45,45],[45,45],[45,45],[45,45],[45,45],[45,45],[45,45]]\n",
    "\n",
    "prices_2019 = [[1460,2178],[1376,2160],[2034,1311],[1949,1485],[1952,2812],[10400,27500],[17465,19453],[13741,16800],[11599,12599],[1998,5099],[1845,4941],[1785,1732]]\n",
    "weights_2019 = [[45,45],[45,45],[45,45],[45,45],[45,45],[45,45],[45,45],[45,45],[45,45],[45,45],[45,45],[45,45]]"
   ]
  },
  {
   "cell_type": "code",
   "execution_count": 3,
   "metadata": {},
   "outputs": [],
   "source": [
    "prices= prices_2017 +prices_2018 + prices_2019\n",
    "weights = weights_2017+weights_2018+weights_2019"
   ]
  },
  {
   "cell_type": "code",
   "execution_count": 4,
   "metadata": {},
   "outputs": [
    {
     "output_type": "execute_result",
     "data": {
      "text/plain": "36"
     },
     "metadata": {},
     "execution_count": 4
    }
   ],
   "source": [
    "prices_avg=np.array([sum(price)/sum(weight) for price,weight in zip(prices,weights)])\n",
    "len(prices_avg)"
   ]
  },
  {
   "cell_type": "code",
   "execution_count": 5,
   "metadata": {},
   "outputs": [],
   "source": [
    "hours_per_month = np.array([745, 673, 745, 721, 745, 721, 745, 745, 721, 745,721,745,745, 673, 745, 721, 745, 721, 745, 745, 721, 745,721,745,745, 673, 745, 721, 745, 721, 745, 745, 721, 745,721,745])"
   ]
  },
  {
   "cell_type": "code",
   "execution_count": 7,
   "metadata": {},
   "outputs": [],
   "source": [
    "price_per_MWh = prices_avg/hours_per_month"
   ]
  },
  {
   "cell_type": "code",
   "execution_count": 8,
   "metadata": {},
   "outputs": [
    {
     "output_type": "execute_result",
     "data": {
      "text/plain": "array([0.04314691, 0.04001981, 0.02784489, 0.02696872, 0.02013423,\n       0.01457852, 0.14344519, 0.10126771, 0.0134073 , 0.07487756,\n       0.01217445, 0.0116182 , 0.01014169, 0.01347202, 0.01469053,\n       0.0154107 , 1.0293214 , 1.38896594, 1.02332588, 1.39327368,\n       1.20203421, 0.47169277, 0.1744953 , 0.0833557 , 0.05425802,\n       0.05837874, 0.04988814, 0.05292033, 0.07105145, 0.58406534,\n       0.55060403, 0.4554959 , 0.372908  , 0.10584638, 0.10457698,\n       0.05245339])"
     },
     "metadata": {},
     "execution_count": 8
    }
   ],
   "source": [
    "price_per_MWh"
   ]
  },
  {
   "cell_type": "code",
   "execution_count": 9,
   "metadata": {},
   "outputs": [],
   "source": [
    "T = pd.date_range('2017-01-01T00:00','2019-12-31T23:00',freq='H')"
   ]
  },
  {
   "cell_type": "code",
   "execution_count": 10,
   "metadata": {},
   "outputs": [],
   "source": [
    "aFRR_price = []\n",
    "for hour in T:\n",
    "    aFRR_price.append(price_per_MWh[(hour.year-2017)*12+hour.month-1])"
   ]
  },
  {
   "cell_type": "code",
   "execution_count": 11,
   "metadata": {},
   "outputs": [],
   "source": [
    "df_afrr= pd.DataFrame(index=T,data=dict(aFRR_dk1_price_MW=aFRR_price))"
   ]
  },
  {
   "cell_type": "code",
   "execution_count": 18,
   "metadata": {},
   "outputs": [
    {
     "output_type": "execute_result",
     "data": {
      "text/plain": "                           HourUTC            HourDK  aFRR_DownActivated  \\\nHourUTC                                                                    \n2017-01-01 04:00  2017-01-01 04:00  2017-01-01 05:00                14.1   \n2017-01-01 03:00  2017-01-01 03:00  2017-01-01 04:00                67.3   \n2017-01-01 02:00  2017-01-01 02:00  2017-01-01 03:00                43.8   \n2017-01-01 01:00  2017-01-01 01:00  2017-01-01 02:00                29.6   \n2017-01-01 00:00  2017-01-01 00:00  2017-01-01 01:00                66.8   \n\n                  aFRR_DownPriceDKK  aFRR_DownPriceEUR  aFRR_UpActivated  \\\nHourUTC                                                                    \n2017-01-01 04:00                0.0                0.0              16.9   \n2017-01-01 03:00                0.0                0.0               0.5   \n2017-01-01 02:00                0.0                0.0               0.4   \n2017-01-01 01:00                0.0                0.0              31.1   \n2017-01-01 00:00                0.0                0.0               1.3   \n\n                  aFRR_UpPriceDKK  aFRR_UpPriceEUR  \nHourUTC                                             \n2017-01-01 04:00              0.0              0.0  \n2017-01-01 03:00              0.0              0.0  \n2017-01-01 02:00              0.0              0.0  \n2017-01-01 01:00              0.0              0.0  \n2017-01-01 00:00              0.0              0.0  ",
      "text/html": "<div>\n<style scoped>\n    .dataframe tbody tr th:only-of-type {\n        vertical-align: middle;\n    }\n\n    .dataframe tbody tr th {\n        vertical-align: top;\n    }\n\n    .dataframe thead th {\n        text-align: right;\n    }\n</style>\n<table border=\"1\" class=\"dataframe\">\n  <thead>\n    <tr style=\"text-align: right;\">\n      <th></th>\n      <th>HourUTC</th>\n      <th>HourDK</th>\n      <th>aFRR_DownActivated</th>\n      <th>aFRR_DownPriceDKK</th>\n      <th>aFRR_DownPriceEUR</th>\n      <th>aFRR_UpActivated</th>\n      <th>aFRR_UpPriceDKK</th>\n      <th>aFRR_UpPriceEUR</th>\n    </tr>\n    <tr>\n      <th>HourUTC</th>\n      <th></th>\n      <th></th>\n      <th></th>\n      <th></th>\n      <th></th>\n      <th></th>\n      <th></th>\n      <th></th>\n    </tr>\n  </thead>\n  <tbody>\n    <tr>\n      <th>2017-01-01 04:00</th>\n      <td>2017-01-01 04:00</td>\n      <td>2017-01-01 05:00</td>\n      <td>14.1</td>\n      <td>0.0</td>\n      <td>0.0</td>\n      <td>16.9</td>\n      <td>0.0</td>\n      <td>0.0</td>\n    </tr>\n    <tr>\n      <th>2017-01-01 03:00</th>\n      <td>2017-01-01 03:00</td>\n      <td>2017-01-01 04:00</td>\n      <td>67.3</td>\n      <td>0.0</td>\n      <td>0.0</td>\n      <td>0.5</td>\n      <td>0.0</td>\n      <td>0.0</td>\n    </tr>\n    <tr>\n      <th>2017-01-01 02:00</th>\n      <td>2017-01-01 02:00</td>\n      <td>2017-01-01 03:00</td>\n      <td>43.8</td>\n      <td>0.0</td>\n      <td>0.0</td>\n      <td>0.4</td>\n      <td>0.0</td>\n      <td>0.0</td>\n    </tr>\n    <tr>\n      <th>2017-01-01 01:00</th>\n      <td>2017-01-01 01:00</td>\n      <td>2017-01-01 02:00</td>\n      <td>29.6</td>\n      <td>0.0</td>\n      <td>0.0</td>\n      <td>31.1</td>\n      <td>0.0</td>\n      <td>0.0</td>\n    </tr>\n    <tr>\n      <th>2017-01-01 00:00</th>\n      <td>2017-01-01 00:00</td>\n      <td>2017-01-01 01:00</td>\n      <td>66.8</td>\n      <td>0.0</td>\n      <td>0.0</td>\n      <td>1.3</td>\n      <td>0.0</td>\n      <td>0.0</td>\n    </tr>\n  </tbody>\n</table>\n</div>"
     },
     "metadata": {},
     "execution_count": 18
    }
   ],
   "source": [
    "# source: https://www.energidataservice.dk/dataset/afrrreservesdk1/resource_extract/0694e216-6713-4f84-9b98-7bb5bc11d80c\n",
    "df_afrr_volume = pd.read_csv('data/afrrreservesdk1.csv')\n",
    "df_afrr_volume = df_afrr_volume.set_index(df_afrr_volume['HourUTC'])\n",
    "df_afrr_volume = df_afrr_volume.fillna(0)\n",
    "df_afrr_volume.tail()"
   ]
  },
  {
   "cell_type": "code",
   "execution_count": 19,
   "metadata": {},
   "outputs": [],
   "source": [
    "afrr_cap_bought = 90\n",
    "\n",
    "df_afrr_volume['UpActivaitonPercent'] = df_afrr_volume['aFRR_UpActivated']/afrr_cap_bought\n",
    "df_afrr_volume['DownActivaitonPercent'] = df_afrr_volume['aFRR_DownActivated']/afrr_cap_bought"
   ]
  },
  {
   "cell_type": "code",
   "execution_count": 20,
   "metadata": {},
   "outputs": [
    {
     "output_type": "execute_result",
     "data": {
      "text/plain": "(26280, 10)"
     },
     "metadata": {},
     "execution_count": 20
    }
   ],
   "source": [
    "df_afrr_volume.shape"
   ]
  },
  {
   "cell_type": "code",
   "execution_count": 21,
   "metadata": {},
   "outputs": [],
   "source": [
    "df_afrr_volume['PowerPrice'] = np.array(aFRR_price)[::-1]"
   ]
  },
  {
   "cell_type": "code",
   "execution_count": 22,
   "metadata": {},
   "outputs": [
    {
     "output_type": "execute_result",
     "data": {
      "text/plain": "                           HourUTC            HourDK  aFRR_DownActivated  \\\nHourUTC                                                                    \n2019-12-31 23:00  2019-12-31 23:00  2020-01-01 00:00                 0.0   \n2019-12-31 22:00  2019-12-31 22:00  2019-12-31 23:00                 0.0   \n2019-12-31 21:00  2019-12-31 21:00  2019-12-31 22:00                 0.0   \n2019-12-31 20:00  2019-12-31 20:00  2019-12-31 21:00                 0.0   \n2019-12-31 19:00  2019-12-31 19:00  2019-12-31 20:00                32.1   \n\n                  aFRR_DownPriceDKK  aFRR_DownPriceEUR  aFRR_UpActivated  \\\nHourUTC                                                                    \n2019-12-31 23:00             149.63              20.03               0.0   \n2019-12-31 22:00             141.10              18.89               0.0   \n2019-12-31 21:00             146.78              19.65               4.1   \n2019-12-31 20:00             147.75              19.78              58.6   \n2019-12-31 19:00             150.51              20.15               2.2   \n\n                  aFRR_UpPriceDKK  aFRR_UpPriceEUR  UpActivaitonPercent  \\\nHourUTC                                                                   \n2019-12-31 23:00           349.68            46.81             0.000000   \n2019-12-31 22:00           341.13            45.67             0.000000   \n2019-12-31 21:00           346.81            46.43             0.045556   \n2019-12-31 20:00           347.78            46.56             0.651111   \n2019-12-31 19:00           350.54            46.93             0.024444   \n\n                  DownActivaitonPercent  PowerPrice  \nHourUTC                                              \n2019-12-31 23:00               0.000000    0.052453  \n2019-12-31 22:00               0.000000    0.052453  \n2019-12-31 21:00               0.000000    0.052453  \n2019-12-31 20:00               0.000000    0.052453  \n2019-12-31 19:00               0.356667    0.052453  ",
      "text/html": "<div>\n<style scoped>\n    .dataframe tbody tr th:only-of-type {\n        vertical-align: middle;\n    }\n\n    .dataframe tbody tr th {\n        vertical-align: top;\n    }\n\n    .dataframe thead th {\n        text-align: right;\n    }\n</style>\n<table border=\"1\" class=\"dataframe\">\n  <thead>\n    <tr style=\"text-align: right;\">\n      <th></th>\n      <th>HourUTC</th>\n      <th>HourDK</th>\n      <th>aFRR_DownActivated</th>\n      <th>aFRR_DownPriceDKK</th>\n      <th>aFRR_DownPriceEUR</th>\n      <th>aFRR_UpActivated</th>\n      <th>aFRR_UpPriceDKK</th>\n      <th>aFRR_UpPriceEUR</th>\n      <th>UpActivaitonPercent</th>\n      <th>DownActivaitonPercent</th>\n      <th>PowerPrice</th>\n    </tr>\n    <tr>\n      <th>HourUTC</th>\n      <th></th>\n      <th></th>\n      <th></th>\n      <th></th>\n      <th></th>\n      <th></th>\n      <th></th>\n      <th></th>\n      <th></th>\n      <th></th>\n      <th></th>\n    </tr>\n  </thead>\n  <tbody>\n    <tr>\n      <th>2019-12-31 23:00</th>\n      <td>2019-12-31 23:00</td>\n      <td>2020-01-01 00:00</td>\n      <td>0.0</td>\n      <td>149.63</td>\n      <td>20.03</td>\n      <td>0.0</td>\n      <td>349.68</td>\n      <td>46.81</td>\n      <td>0.000000</td>\n      <td>0.000000</td>\n      <td>0.052453</td>\n    </tr>\n    <tr>\n      <th>2019-12-31 22:00</th>\n      <td>2019-12-31 22:00</td>\n      <td>2019-12-31 23:00</td>\n      <td>0.0</td>\n      <td>141.10</td>\n      <td>18.89</td>\n      <td>0.0</td>\n      <td>341.13</td>\n      <td>45.67</td>\n      <td>0.000000</td>\n      <td>0.000000</td>\n      <td>0.052453</td>\n    </tr>\n    <tr>\n      <th>2019-12-31 21:00</th>\n      <td>2019-12-31 21:00</td>\n      <td>2019-12-31 22:00</td>\n      <td>0.0</td>\n      <td>146.78</td>\n      <td>19.65</td>\n      <td>4.1</td>\n      <td>346.81</td>\n      <td>46.43</td>\n      <td>0.045556</td>\n      <td>0.000000</td>\n      <td>0.052453</td>\n    </tr>\n    <tr>\n      <th>2019-12-31 20:00</th>\n      <td>2019-12-31 20:00</td>\n      <td>2019-12-31 21:00</td>\n      <td>0.0</td>\n      <td>147.75</td>\n      <td>19.78</td>\n      <td>58.6</td>\n      <td>347.78</td>\n      <td>46.56</td>\n      <td>0.651111</td>\n      <td>0.000000</td>\n      <td>0.052453</td>\n    </tr>\n    <tr>\n      <th>2019-12-31 19:00</th>\n      <td>2019-12-31 19:00</td>\n      <td>2019-12-31 20:00</td>\n      <td>32.1</td>\n      <td>150.51</td>\n      <td>20.15</td>\n      <td>2.2</td>\n      <td>350.54</td>\n      <td>46.93</td>\n      <td>0.024444</td>\n      <td>0.356667</td>\n      <td>0.052453</td>\n    </tr>\n  </tbody>\n</table>\n</div>"
     },
     "metadata": {},
     "execution_count": 22
    }
   ],
   "source": [
    "df_afrr_volume.head()"
   ]
  },
  {
   "cell_type": "code",
   "execution_count": 23,
   "metadata": {},
   "outputs": [],
   "source": [
    "df_afrr_volume.to_csv('data/aFRR_prices_DK1_2019.csv')"
   ]
  },
  {
   "cell_type": "code",
   "execution_count": null,
   "metadata": {},
   "outputs": [],
   "source": []
  }
 ]
}