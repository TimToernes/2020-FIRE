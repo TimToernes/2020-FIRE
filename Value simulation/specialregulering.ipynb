{
 "nbformat": 4,
 "nbformat_minor": 2,
 "metadata": {
  "language_info": {
   "name": "python",
   "codemirror_mode": {
    "name": "ipython",
    "version": 3
   },
   "version": "3.7.6-final"
  },
  "orig_nbformat": 2,
  "file_extension": ".py",
  "mimetype": "text/x-python",
  "name": "python",
  "npconvert_exporter": "python",
  "pygments_lexer": "ipython3",
  "version": 3,
  "kernelspec": {
   "name": "python37364bitbaseconda932fb5d06ddb43488b31896c8f2d006d",
   "display_name": "Python 3.7.3 64-bit ('base': conda)"
  }
 },
 "cells": [
  {
   "cell_type": "markdown",
   "metadata": {},
   "source": [
    "![](specialregulering_2019.PNG)\n",
    "![](specialregulering_2018.PNG)\n",
    "source: https://energinet.dk/El/Systemydelser/indkob-og-udbud/Pris-paa-reserver"
   ]
  },
  {
   "cell_type": "code",
   "execution_count": 14,
   "metadata": {},
   "outputs": [],
   "source": [
    "import numpy as np\n",
    "import pandas as pd"
   ]
  },
  {
   "cell_type": "code",
   "execution_count": 15,
   "metadata": {},
   "outputs": [],
   "source": [
    "prices_2017 = [0,0,0,0,0,0,0,0,0,0,0,0]\n",
    "prices_2018 = [-47,-1,-112,-14,-129,-143,-10,-51,-106,-100,-43,-36,]\n",
    "prices_2019 = [28,-42,-84,-70,-59,-132,-150,-148,-148,-131,-54,-92]\n",
    "\n",
    "prices = prices_2017 + prices_2018 + prices_2019"
   ]
  },
  {
   "cell_type": "code",
   "execution_count": 16,
   "metadata": {},
   "outputs": [],
   "source": [
    "T = pd.date_range('2017-01-01T00:00','2019-12-31T23:00',freq='H')\n",
    "specialreg_price = []\n",
    "for hour in T:\n",
    "    specialreg_price.append(prices[(hour.year-2017)*12+hour.month-1])"
   ]
  },
  {
   "cell_type": "code",
   "execution_count": 17,
   "metadata": {},
   "outputs": [],
   "source": [
    "df_specialreg= pd.DataFrame(index=T,data=dict(specialregulering_dk1_pris=specialreg_price))"
   ]
  },
  {
   "cell_type": "code",
   "execution_count": 18,
   "metadata": {},
   "outputs": [],
   "source": [
    "df_volume = pd.read_csv('data/special-regulation-volume_2017-2019_dk1_hourly.csv',delimiter=';',decimal=',')"
   ]
  },
  {
   "cell_type": "code",
   "execution_count": 19,
   "metadata": {},
   "outputs": [
    {
     "output_type": "execute_result",
     "data": {
      "text/plain": "             date    Hours    Up  Down\n26278  31-12-2019  19 - 20  37.8   0.0\n26279  31-12-2019  20 - 21   0.0   0.0\n26280  31-12-2019  21 - 22   0.0   0.0\n26281  31-12-2019  22 - 23   0.0   0.0\n26282  31-12-2019  23 - 00   0.0   0.0",
      "text/html": "<div>\n<style scoped>\n    .dataframe tbody tr th:only-of-type {\n        vertical-align: middle;\n    }\n\n    .dataframe tbody tr th {\n        vertical-align: top;\n    }\n\n    .dataframe thead th {\n        text-align: right;\n    }\n</style>\n<table border=\"1\" class=\"dataframe\">\n  <thead>\n    <tr style=\"text-align: right;\">\n      <th></th>\n      <th>date</th>\n      <th>Hours</th>\n      <th>Up</th>\n      <th>Down</th>\n    </tr>\n  </thead>\n  <tbody>\n    <tr>\n      <th>26278</th>\n      <td>31-12-2019</td>\n      <td>19 - 20</td>\n      <td>37.8</td>\n      <td>0.0</td>\n    </tr>\n    <tr>\n      <th>26279</th>\n      <td>31-12-2019</td>\n      <td>20 - 21</td>\n      <td>0.0</td>\n      <td>0.0</td>\n    </tr>\n    <tr>\n      <th>26280</th>\n      <td>31-12-2019</td>\n      <td>21 - 22</td>\n      <td>0.0</td>\n      <td>0.0</td>\n    </tr>\n    <tr>\n      <th>26281</th>\n      <td>31-12-2019</td>\n      <td>22 - 23</td>\n      <td>0.0</td>\n      <td>0.0</td>\n    </tr>\n    <tr>\n      <th>26282</th>\n      <td>31-12-2019</td>\n      <td>23 - 00</td>\n      <td>0.0</td>\n      <td>0.0</td>\n    </tr>\n  </tbody>\n</table>\n</div>"
     },
     "metadata": {},
     "execution_count": 19
    }
   ],
   "source": [
    "df_volume.tail()"
   ]
  },
  {
   "cell_type": "code",
   "execution_count": 30,
   "metadata": {},
   "outputs": [
    {
     "output_type": "execute_result",
     "data": {
      "text/plain": "0        False\n1        False\n2        False\n3        False\n4        False\n         ...  \n26275    False\n26276     True\n26277     True\n26278     True\n26279    False\nName: Up, Length: 26280, dtype: bool"
     },
     "metadata": {},
     "execution_count": 30
    }
   ],
   "source": [
    "(df_volume['Up']>0)[0:-3]"
   ]
  },
  {
   "cell_type": "code",
   "execution_count": 36,
   "metadata": {},
   "outputs": [],
   "source": [
    "df_specialreg['VolumeUp'] = df_volume['Up'].values[0:-3]\n",
    "df_specialreg['VolumeDown'] = df_volume['Down'].values[0:-3]\n",
    "df_specialreg['UpActive'] = (df_volume['Up']>0).values[0:-3].astype(int)\n",
    "df_specialreg['DownActive'] = (df_volume['Down']>0).values[0:-3].astype(int)"
   ]
  },
  {
   "cell_type": "code",
   "execution_count": 37,
   "metadata": {},
   "outputs": [
    {
     "output_type": "execute_result",
     "data": {
      "text/plain": "                     specialregulering_dk1_pris  VolumeUp  VolumeDown  \\\n2019-12-31 19:00:00                         -92       0.0         0.0   \n2019-12-31 20:00:00                         -92      46.6         0.0   \n2019-12-31 21:00:00                         -92      68.2         0.0   \n2019-12-31 22:00:00                         -92      37.8         0.0   \n2019-12-31 23:00:00                         -92       0.0         0.0   \n\n                     UpActive  DownActive  \n2019-12-31 19:00:00         0           0  \n2019-12-31 20:00:00         1           0  \n2019-12-31 21:00:00         1           0  \n2019-12-31 22:00:00         1           0  \n2019-12-31 23:00:00         0           0  ",
      "text/html": "<div>\n<style scoped>\n    .dataframe tbody tr th:only-of-type {\n        vertical-align: middle;\n    }\n\n    .dataframe tbody tr th {\n        vertical-align: top;\n    }\n\n    .dataframe thead th {\n        text-align: right;\n    }\n</style>\n<table border=\"1\" class=\"dataframe\">\n  <thead>\n    <tr style=\"text-align: right;\">\n      <th></th>\n      <th>specialregulering_dk1_pris</th>\n      <th>VolumeUp</th>\n      <th>VolumeDown</th>\n      <th>UpActive</th>\n      <th>DownActive</th>\n    </tr>\n  </thead>\n  <tbody>\n    <tr>\n      <th>2019-12-31 19:00:00</th>\n      <td>-92</td>\n      <td>0.0</td>\n      <td>0.0</td>\n      <td>0</td>\n      <td>0</td>\n    </tr>\n    <tr>\n      <th>2019-12-31 20:00:00</th>\n      <td>-92</td>\n      <td>46.6</td>\n      <td>0.0</td>\n      <td>1</td>\n      <td>0</td>\n    </tr>\n    <tr>\n      <th>2019-12-31 21:00:00</th>\n      <td>-92</td>\n      <td>68.2</td>\n      <td>0.0</td>\n      <td>1</td>\n      <td>0</td>\n    </tr>\n    <tr>\n      <th>2019-12-31 22:00:00</th>\n      <td>-92</td>\n      <td>37.8</td>\n      <td>0.0</td>\n      <td>1</td>\n      <td>0</td>\n    </tr>\n    <tr>\n      <th>2019-12-31 23:00:00</th>\n      <td>-92</td>\n      <td>0.0</td>\n      <td>0.0</td>\n      <td>0</td>\n      <td>0</td>\n    </tr>\n  </tbody>\n</table>\n</div>"
     },
     "metadata": {},
     "execution_count": 37
    }
   ],
   "source": [
    "df_specialreg.tail()"
   ]
  },
  {
   "cell_type": "code",
   "execution_count": 38,
   "metadata": {},
   "outputs": [],
   "source": [
    "df_specialreg.to_csv('data/specialReg_2017-2019_dk1.csv')"
   ]
  },
  {
   "cell_type": "code",
   "execution_count": null,
   "metadata": {},
   "outputs": [],
   "source": []
  }
 ]
}