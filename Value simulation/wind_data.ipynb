{
 "nbformat": 4,
 "nbformat_minor": 2,
 "metadata": {
  "language_info": {
   "name": "python",
   "codemirror_mode": {
    "name": "ipython",
    "version": 3
   },
   "version": "3.7.6-final"
  },
  "orig_nbformat": 2,
  "file_extension": ".py",
  "mimetype": "text/x-python",
  "name": "python",
  "npconvert_exporter": "python",
  "pygments_lexer": "ipython3",
  "version": 3,
  "kernelspec": {
   "name": "python37364bitbaseconda932fb5d06ddb43488b31896c8f2d006d",
   "display_name": "Python 3.7.3 64-bit ('base': conda)"
  }
 },
 "cells": [
  {
   "cell_type": "code",
   "execution_count": 13,
   "metadata": {},
   "outputs": [],
   "source": [
    "import pandas as pd\n",
    "from datetime import datetime"
   ]
  },
  {
   "cell_type": "code",
   "execution_count": 14,
   "metadata": {},
   "outputs": [],
   "source": [
    "df_balance = pd.read_csv('data/electricitybalance.csv',delimiter=';')\n",
    "# source: https://www.energidataservice.dk/dataset/electricitybalance"
   ]
  },
  {
   "cell_type": "code",
   "execution_count": 15,
   "metadata": {},
   "outputs": [],
   "source": [
    "df_capacities = pd.read_csv('data/capacitypermunicipality.csv',delimiter=';')\n",
    "# source: https://www.energidataservice.dk/dataset/capacitypermunicipality/resource_extract/fa9e8860-a055-4bd4-aca3-260b7ad23564?page=7#resource-preview"
   ]
  },
  {
   "cell_type": "code",
   "execution_count": 20,
   "metadata": {},
   "outputs": [
    {
     "output_type": "execute_result",
     "data": {
      "text/plain": "                HourUTC            HourDK PriceArea  GrossCon  NetCon  \\\n0      2020-04-03 21:00  2020-04-03 23:00       DK1       NaN     NaN   \n1      2020-04-03 20:00  2020-04-03 22:00       DK1       NaN     NaN   \n2      2020-04-03 19:00  2020-04-03 21:00       DK1       NaN     NaN   \n3      2020-04-03 18:00  2020-04-03 20:00       DK1       NaN     NaN   \n4      2020-04-03 17:00  2020-04-03 19:00       DK1       NaN     NaN   \n...                 ...               ...       ...       ...     ...   \n81136  2011-01-01 03:00  2011-01-01 04:00       DK1    1904.2  1818.1   \n81137  2011-01-01 02:00  2011-01-01 03:00       DK1    1950.0  1863.2   \n81138  2011-01-01 01:00  2011-01-01 02:00       DK1    2033.9  1946.7   \n81139  2011-01-01 00:00  2011-01-01 01:00       DK1    2129.5  2040.2   \n81140  2010-12-31 23:00  2011-01-01 00:00       DK1    2204.6  2112.8   \n\n       LocalPowerProd  OffshoreWindPower  OnshoreWindPower  CentralProd  \\\n0                 NaN                NaN               NaN          NaN   \n1                 NaN                NaN               NaN          NaN   \n2                 NaN                NaN               NaN          NaN   \n3                 NaN                NaN               NaN          NaN   \n4                 NaN                NaN               NaN          NaN   \n...               ...                ...               ...          ...   \n81136           428.7         609.550003       1749.849997        886.2   \n81137           429.2         613.623262       1744.176738        880.8   \n81138           431.4         615.024796       1760.675204        917.0   \n81139           436.4         621.428703       1883.371297       1083.2   \n81140           450.7         618.093464       1926.581694       1237.0   \n\n       ElectricBoilerCon  SolarPowerProd  ExchangeContinent  \\\n0                    NaN             NaN                NaN   \n1                    NaN             NaN                NaN   \n2                    NaN             NaN                NaN   \n3                    NaN             NaN                NaN   \n4                    NaN             NaN                NaN   \n...                  ...             ...                ...   \n81136                NaN             NaN             -361.5   \n81137                NaN             NaN             -366.5   \n81138                NaN             NaN             -354.0   \n81139                NaN             NaN             -434.3   \n81140                NaN             NaN             -477.5   \n\n       ExchangeGreatBelt  ExchangeNordicCountries  WindCapacityFactor  \n0                    NaN                      NaN                 NaN  \n1                    NaN                      NaN                 NaN  \n2                    NaN                      NaN                 NaN  \n3                    NaN                      NaN                 NaN  \n4                    NaN                      NaN                 NaN  \n...                  ...                      ...                 ...  \n81136             -300.5                  -1108.1            0.476674  \n81137             -330.3                  -1020.9            0.475129  \n81138             -297.0                  -1039.3            0.479623  \n81139             -309.0                  -1151.6            0.513047  \n81140             -408.6                  -1141.6            0.524818  \n\n[81141 rows x 15 columns]",
      "text/html": "<div>\n<style scoped>\n    .dataframe tbody tr th:only-of-type {\n        vertical-align: middle;\n    }\n\n    .dataframe tbody tr th {\n        vertical-align: top;\n    }\n\n    .dataframe thead th {\n        text-align: right;\n    }\n</style>\n<table border=\"1\" class=\"dataframe\">\n  <thead>\n    <tr style=\"text-align: right;\">\n      <th></th>\n      <th>HourUTC</th>\n      <th>HourDK</th>\n      <th>PriceArea</th>\n      <th>GrossCon</th>\n      <th>NetCon</th>\n      <th>LocalPowerProd</th>\n      <th>OffshoreWindPower</th>\n      <th>OnshoreWindPower</th>\n      <th>CentralProd</th>\n      <th>ElectricBoilerCon</th>\n      <th>SolarPowerProd</th>\n      <th>ExchangeContinent</th>\n      <th>ExchangeGreatBelt</th>\n      <th>ExchangeNordicCountries</th>\n      <th>WindCapacityFactor</th>\n    </tr>\n  </thead>\n  <tbody>\n    <tr>\n      <th>0</th>\n      <td>2020-04-03 21:00</td>\n      <td>2020-04-03 23:00</td>\n      <td>DK1</td>\n      <td>NaN</td>\n      <td>NaN</td>\n      <td>NaN</td>\n      <td>NaN</td>\n      <td>NaN</td>\n      <td>NaN</td>\n      <td>NaN</td>\n      <td>NaN</td>\n      <td>NaN</td>\n      <td>NaN</td>\n      <td>NaN</td>\n      <td>NaN</td>\n    </tr>\n    <tr>\n      <th>1</th>\n      <td>2020-04-03 20:00</td>\n      <td>2020-04-03 22:00</td>\n      <td>DK1</td>\n      <td>NaN</td>\n      <td>NaN</td>\n      <td>NaN</td>\n      <td>NaN</td>\n      <td>NaN</td>\n      <td>NaN</td>\n      <td>NaN</td>\n      <td>NaN</td>\n      <td>NaN</td>\n      <td>NaN</td>\n      <td>NaN</td>\n      <td>NaN</td>\n    </tr>\n    <tr>\n      <th>2</th>\n      <td>2020-04-03 19:00</td>\n      <td>2020-04-03 21:00</td>\n      <td>DK1</td>\n      <td>NaN</td>\n      <td>NaN</td>\n      <td>NaN</td>\n      <td>NaN</td>\n      <td>NaN</td>\n      <td>NaN</td>\n      <td>NaN</td>\n      <td>NaN</td>\n      <td>NaN</td>\n      <td>NaN</td>\n      <td>NaN</td>\n      <td>NaN</td>\n    </tr>\n    <tr>\n      <th>3</th>\n      <td>2020-04-03 18:00</td>\n      <td>2020-04-03 20:00</td>\n      <td>DK1</td>\n      <td>NaN</td>\n      <td>NaN</td>\n      <td>NaN</td>\n      <td>NaN</td>\n      <td>NaN</td>\n      <td>NaN</td>\n      <td>NaN</td>\n      <td>NaN</td>\n      <td>NaN</td>\n      <td>NaN</td>\n      <td>NaN</td>\n      <td>NaN</td>\n    </tr>\n    <tr>\n      <th>4</th>\n      <td>2020-04-03 17:00</td>\n      <td>2020-04-03 19:00</td>\n      <td>DK1</td>\n      <td>NaN</td>\n      <td>NaN</td>\n      <td>NaN</td>\n      <td>NaN</td>\n      <td>NaN</td>\n      <td>NaN</td>\n      <td>NaN</td>\n      <td>NaN</td>\n      <td>NaN</td>\n      <td>NaN</td>\n      <td>NaN</td>\n      <td>NaN</td>\n    </tr>\n    <tr>\n      <th>...</th>\n      <td>...</td>\n      <td>...</td>\n      <td>...</td>\n      <td>...</td>\n      <td>...</td>\n      <td>...</td>\n      <td>...</td>\n      <td>...</td>\n      <td>...</td>\n      <td>...</td>\n      <td>...</td>\n      <td>...</td>\n      <td>...</td>\n      <td>...</td>\n      <td>...</td>\n    </tr>\n    <tr>\n      <th>81136</th>\n      <td>2011-01-01 03:00</td>\n      <td>2011-01-01 04:00</td>\n      <td>DK1</td>\n      <td>1904.2</td>\n      <td>1818.1</td>\n      <td>428.7</td>\n      <td>609.550003</td>\n      <td>1749.849997</td>\n      <td>886.2</td>\n      <td>NaN</td>\n      <td>NaN</td>\n      <td>-361.5</td>\n      <td>-300.5</td>\n      <td>-1108.1</td>\n      <td>0.476674</td>\n    </tr>\n    <tr>\n      <th>81137</th>\n      <td>2011-01-01 02:00</td>\n      <td>2011-01-01 03:00</td>\n      <td>DK1</td>\n      <td>1950.0</td>\n      <td>1863.2</td>\n      <td>429.2</td>\n      <td>613.623262</td>\n      <td>1744.176738</td>\n      <td>880.8</td>\n      <td>NaN</td>\n      <td>NaN</td>\n      <td>-366.5</td>\n      <td>-330.3</td>\n      <td>-1020.9</td>\n      <td>0.475129</td>\n    </tr>\n    <tr>\n      <th>81138</th>\n      <td>2011-01-01 01:00</td>\n      <td>2011-01-01 02:00</td>\n      <td>DK1</td>\n      <td>2033.9</td>\n      <td>1946.7</td>\n      <td>431.4</td>\n      <td>615.024796</td>\n      <td>1760.675204</td>\n      <td>917.0</td>\n      <td>NaN</td>\n      <td>NaN</td>\n      <td>-354.0</td>\n      <td>-297.0</td>\n      <td>-1039.3</td>\n      <td>0.479623</td>\n    </tr>\n    <tr>\n      <th>81139</th>\n      <td>2011-01-01 00:00</td>\n      <td>2011-01-01 01:00</td>\n      <td>DK1</td>\n      <td>2129.5</td>\n      <td>2040.2</td>\n      <td>436.4</td>\n      <td>621.428703</td>\n      <td>1883.371297</td>\n      <td>1083.2</td>\n      <td>NaN</td>\n      <td>NaN</td>\n      <td>-434.3</td>\n      <td>-309.0</td>\n      <td>-1151.6</td>\n      <td>0.513047</td>\n    </tr>\n    <tr>\n      <th>81140</th>\n      <td>2010-12-31 23:00</td>\n      <td>2011-01-01 00:00</td>\n      <td>DK1</td>\n      <td>2204.6</td>\n      <td>2112.8</td>\n      <td>450.7</td>\n      <td>618.093464</td>\n      <td>1926.581694</td>\n      <td>1237.0</td>\n      <td>NaN</td>\n      <td>NaN</td>\n      <td>-477.5</td>\n      <td>-408.6</td>\n      <td>-1141.6</td>\n      <td>0.524818</td>\n    </tr>\n  </tbody>\n</table>\n<p>81141 rows × 15 columns</p>\n</div>"
     },
     "metadata": {},
     "execution_count": 20
    }
   ],
   "source": [
    "df_balance"
   ]
  },
  {
   "cell_type": "markdown",
   "metadata": {},
   "source": [
    "## Wind capacity factor"
   ]
  },
  {
   "cell_type": "code",
   "execution_count": 21,
   "metadata": {},
   "outputs": [],
   "source": [
    "# Municipalities with number higher than 400 are in DK1\n",
    "dk1_municipality_seperator = 400\n",
    "filter = [a and b for a,b in zip(df_capacities['Month']=='2019-07-01 00:00',df_capacities['MunicipalityNo']>dk1_municipality_seperator)]\n",
    "wind_capacity = df_capacities.iloc[filter]['OnshoreWindCapacity'].sum()"
   ]
  },
  {
   "cell_type": "code",
   "execution_count": 22,
   "metadata": {},
   "outputs": [],
   "source": [
    "df_balance['WindCapacityFactor'] = df_balance['OnshoreWindPower']/wind_capacity"
   ]
  },
  {
   "cell_type": "code",
   "execution_count": 24,
   "metadata": {},
   "outputs": [
    {
     "output_type": "execute_result",
     "data": {
      "text/plain": "0.24669173859751334"
     },
     "metadata": {},
     "execution_count": 24
    }
   ],
   "source": [
    "filter = [a and b for a,b in zip( df_balance['HourDK'] > '2019-01-01 00:00', df_balance['HourDK'] < '2020-01-01 00:00')]\n",
    "df_balance.loc[filter]['WindCapacityFactor'].mean()"
   ]
  },
  {
   "cell_type": "markdown",
   "metadata": {},
   "source": [
    "## Solar capacity factor"
   ]
  },
  {
   "cell_type": "code",
   "execution_count": 25,
   "metadata": {},
   "outputs": [
    {
     "output_type": "execute_result",
     "data": {
      "text/plain": "738.0768999999999"
     },
     "metadata": {},
     "execution_count": 25
    }
   ],
   "source": [
    "# Municipalities with number higher than 400 are in DK1\n",
    "dk1_municipality_seperator = 400\n",
    "filter = [a and b for a,b in zip(df_capacities['Month']=='2019-12-01 00:00',df_capacities['MunicipalityNo']>dk1_municipality_seperator)]\n",
    "solar_capacity = df_capacities.iloc[filter]['SolarPowerCapacity'].sum()\n",
    "solar_capacity"
   ]
  },
  {
   "cell_type": "code",
   "execution_count": 27,
   "metadata": {},
   "outputs": [],
   "source": [
    "solar_capacity = (662+738) / 2"
   ]
  },
  {
   "cell_type": "code",
   "execution_count": 28,
   "metadata": {},
   "outputs": [],
   "source": [
    "df_balance['SolarCapacityFactor'] = df_balance['SolarPowerProd']/solar_capacity"
   ]
  },
  {
   "cell_type": "code",
   "execution_count": 29,
   "metadata": {},
   "outputs": [
    {
     "output_type": "execute_result",
     "data": {
      "text/plain": "0.10187550973803544"
     },
     "metadata": {},
     "execution_count": 29
    }
   ],
   "source": [
    "filter = [a and b for a,b in zip( df_balance['HourDK'] > '2019-01-01 00:00', df_balance['HourDK'] < '2020-01-01 00:00')]\n",
    "df_balance.loc[filter]['SolarCapacityFactor'].mean()"
   ]
  },
  {
   "cell_type": "markdown",
   "metadata": {},
   "source": [
    "## Creating new data frame "
   ]
  },
  {
   "cell_type": "code",
   "execution_count": 30,
   "metadata": {},
   "outputs": [],
   "source": [
    "df_capfactor = pd.DataFrame(index=df_balance['HourUTC'])\n",
    "df_capfactor['HourDK'] = df_balance['HourDK'].values\n",
    "df_capfactor['WindCapacityFactor'] = df_balance['WindCapacityFactor'].values\n",
    "df_capfactor['SolarCapacityFactor'] = df_balance['SolarCapacityFactor'].values"
   ]
  },
  {
   "cell_type": "code",
   "execution_count": 31,
   "metadata": {},
   "outputs": [],
   "source": [
    "df_capfactor.to_csv('data/windcapacityfacotor.csv')"
   ]
  },
  {
   "cell_type": "code",
   "execution_count": 32,
   "metadata": {},
   "outputs": [
    {
     "output_type": "execute_result",
     "data": {
      "text/plain": "                            HourDK  WindCapacityFactor  SolarCapacityFactor\nHourUTC                                                                    \n2020-04-03 21:00  2020-04-03 23:00                 NaN                  NaN\n2020-04-03 20:00  2020-04-03 22:00                 NaN                  NaN\n2020-04-03 19:00  2020-04-03 21:00                 NaN                  NaN\n2020-04-03 18:00  2020-04-03 20:00                 NaN                  NaN\n2020-04-03 17:00  2020-04-03 19:00                 NaN                  NaN\n...                            ...                 ...                  ...\n2011-01-01 03:00  2011-01-01 04:00            0.476674                  NaN\n2011-01-01 02:00  2011-01-01 03:00            0.475129                  NaN\n2011-01-01 01:00  2011-01-01 02:00            0.479623                  NaN\n2011-01-01 00:00  2011-01-01 01:00            0.513047                  NaN\n2010-12-31 23:00  2011-01-01 00:00            0.524818                  NaN\n\n[81141 rows x 3 columns]",
      "text/html": "<div>\n<style scoped>\n    .dataframe tbody tr th:only-of-type {\n        vertical-align: middle;\n    }\n\n    .dataframe tbody tr th {\n        vertical-align: top;\n    }\n\n    .dataframe thead th {\n        text-align: right;\n    }\n</style>\n<table border=\"1\" class=\"dataframe\">\n  <thead>\n    <tr style=\"text-align: right;\">\n      <th></th>\n      <th>HourDK</th>\n      <th>WindCapacityFactor</th>\n      <th>SolarCapacityFactor</th>\n    </tr>\n    <tr>\n      <th>HourUTC</th>\n      <th></th>\n      <th></th>\n      <th></th>\n    </tr>\n  </thead>\n  <tbody>\n    <tr>\n      <th>2020-04-03 21:00</th>\n      <td>2020-04-03 23:00</td>\n      <td>NaN</td>\n      <td>NaN</td>\n    </tr>\n    <tr>\n      <th>2020-04-03 20:00</th>\n      <td>2020-04-03 22:00</td>\n      <td>NaN</td>\n      <td>NaN</td>\n    </tr>\n    <tr>\n      <th>2020-04-03 19:00</th>\n      <td>2020-04-03 21:00</td>\n      <td>NaN</td>\n      <td>NaN</td>\n    </tr>\n    <tr>\n      <th>2020-04-03 18:00</th>\n      <td>2020-04-03 20:00</td>\n      <td>NaN</td>\n      <td>NaN</td>\n    </tr>\n    <tr>\n      <th>2020-04-03 17:00</th>\n      <td>2020-04-03 19:00</td>\n      <td>NaN</td>\n      <td>NaN</td>\n    </tr>\n    <tr>\n      <th>...</th>\n      <td>...</td>\n      <td>...</td>\n      <td>...</td>\n    </tr>\n    <tr>\n      <th>2011-01-01 03:00</th>\n      <td>2011-01-01 04:00</td>\n      <td>0.476674</td>\n      <td>NaN</td>\n    </tr>\n    <tr>\n      <th>2011-01-01 02:00</th>\n      <td>2011-01-01 03:00</td>\n      <td>0.475129</td>\n      <td>NaN</td>\n    </tr>\n    <tr>\n      <th>2011-01-01 01:00</th>\n      <td>2011-01-01 02:00</td>\n      <td>0.479623</td>\n      <td>NaN</td>\n    </tr>\n    <tr>\n      <th>2011-01-01 00:00</th>\n      <td>2011-01-01 01:00</td>\n      <td>0.513047</td>\n      <td>NaN</td>\n    </tr>\n    <tr>\n      <th>2010-12-31 23:00</th>\n      <td>2011-01-01 00:00</td>\n      <td>0.524818</td>\n      <td>NaN</td>\n    </tr>\n  </tbody>\n</table>\n<p>81141 rows × 3 columns</p>\n</div>"
     },
     "metadata": {},
     "execution_count": 32
    }
   ],
   "source": [
    "df_capfactor"
   ]
  },
  {
   "cell_type": "code",
   "execution_count": null,
   "metadata": {},
   "outputs": [],
   "source": []
  }
 ]
}